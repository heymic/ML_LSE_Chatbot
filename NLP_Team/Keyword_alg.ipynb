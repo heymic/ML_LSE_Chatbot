{
 "cells": [
  {
   "cell_type": "code",
   "execution_count": 563,
   "metadata": {
    "collapsed": true
   },
   "outputs": [],
   "source": [
    "import numpy as np\n",
    "import pandas as pd\n",
    "import matplotlib.pyplot as plt"
   ]
  },
  {
   "cell_type": "markdown",
   "metadata": {},
   "source": [
    "### SP500 Data"
   ]
  },
  {
   "cell_type": "code",
   "execution_count": 603,
   "metadata": {
    "collapsed": true
   },
   "outputs": [],
   "source": [
    "# read from csv file\n",
    "sp500_data = pd.read_excel('sp500.xlsx', header=None)"
   ]
  },
  {
   "cell_type": "code",
   "execution_count": 604,
   "metadata": {
    "collapsed": true
   },
   "outputs": [],
   "source": [
    "sp500_names = pd.DataFrame()\n",
    "sp500_names['ticker'] = sp500_data.iloc[:,0]\n",
    "sp500_names['name'] = sp500_data.iloc[:,1]"
   ]
  },
  {
   "cell_type": "code",
   "execution_count": 605,
   "metadata": {
    "collapsed": true
   },
   "outputs": [],
   "source": [
    "# names to lowercase\n",
    "def lower(string):\n",
    "    return string.lower()\n",
    "\n",
    "sp500_names['name'] = sp500_names['name'].apply(lower)"
   ]
  },
  {
   "cell_type": "code",
   "execution_count": 606,
   "metadata": {},
   "outputs": [
    {
     "data": {
      "text/html": [
       "<div>\n",
       "<style>\n",
       "    .dataframe thead tr:only-child th {\n",
       "        text-align: right;\n",
       "    }\n",
       "\n",
       "    .dataframe thead th {\n",
       "        text-align: left;\n",
       "    }\n",
       "\n",
       "    .dataframe tbody tr th {\n",
       "        vertical-align: top;\n",
       "    }\n",
       "</style>\n",
       "<table border=\"1\" class=\"dataframe\">\n",
       "  <thead>\n",
       "    <tr style=\"text-align: right;\">\n",
       "      <th></th>\n",
       "      <th>ticker</th>\n",
       "      <th>name</th>\n",
       "    </tr>\n",
       "  </thead>\n",
       "  <tbody>\n",
       "    <tr>\n",
       "      <th>0</th>\n",
       "      <td>MMM</td>\n",
       "      <td>3m company</td>\n",
       "    </tr>\n",
       "    <tr>\n",
       "      <th>1</th>\n",
       "      <td>ABT</td>\n",
       "      <td>abbott laboratories</td>\n",
       "    </tr>\n",
       "    <tr>\n",
       "      <th>2</th>\n",
       "      <td>ABBV</td>\n",
       "      <td>abbvie inc.</td>\n",
       "    </tr>\n",
       "    <tr>\n",
       "      <th>3</th>\n",
       "      <td>ACN</td>\n",
       "      <td>accenture plc</td>\n",
       "    </tr>\n",
       "    <tr>\n",
       "      <th>4</th>\n",
       "      <td>ATVI</td>\n",
       "      <td>activision blizzard</td>\n",
       "    </tr>\n",
       "  </tbody>\n",
       "</table>\n",
       "</div>"
      ],
      "text/plain": [
       "  ticker                 name\n",
       "0    MMM           3m company\n",
       "1    ABT  abbott laboratories\n",
       "2   ABBV          abbvie inc.\n",
       "3    ACN        accenture plc\n",
       "4   ATVI  activision blizzard"
      ]
     },
     "execution_count": 606,
     "metadata": {},
     "output_type": "execute_result"
    }
   ],
   "source": [
    "sp500_names.head()"
   ]
  },
  {
   "cell_type": "code",
   "execution_count": 607,
   "metadata": {
    "collapsed": true
   },
   "outputs": [],
   "source": [
    "# freq analysis of names to see what to remove\n",
    "split_names = pd.Series(sum([x.split(' ') for x in sp500_names['name']], []))"
   ]
  },
  {
   "cell_type": "code",
   "execution_count": 608,
   "metadata": {
    "collapsed": true
   },
   "outputs": [],
   "source": [
    "# remove common terms that appear more than freq times and get a \n",
    "freq = 3\n",
    "term_count = split_names.value_counts()\n",
    "remove_terms = list(term_count.loc[term_count>freq].index.values)"
   ]
  },
  {
   "cell_type": "code",
   "execution_count": 609,
   "metadata": {
    "collapsed": true
   },
   "outputs": [],
   "source": [
    "remove_terms.remove('a')\n",
    "remove_terms.remove('co')\n",
    "remove_terms.append('data')\n",
    "remove_terms.append('price')\n",
    "remove_terms.append('ge')\n",
    "remove_terms.remove('brands')\n",
    "remove_terms.remove('of')"
   ]
  },
  {
   "cell_type": "code",
   "execution_count": 610,
   "metadata": {
    "collapsed": true
   },
   "outputs": [],
   "source": [
    "clean_names = []\n",
    "for x in sp500_names['name']:\n",
    "    new_x = x\n",
    "    for y in remove_terms:\n",
    "        new_x = new_x.replace(y, '')\n",
    "    clean_names.append(new_x.strip())"
   ]
  },
  {
   "cell_type": "code",
   "execution_count": 611,
   "metadata": {},
   "outputs": [
    {
     "data": {
      "text/html": [
       "<div>\n",
       "<style>\n",
       "    .dataframe thead tr:only-child th {\n",
       "        text-align: right;\n",
       "    }\n",
       "\n",
       "    .dataframe thead th {\n",
       "        text-align: left;\n",
       "    }\n",
       "\n",
       "    .dataframe tbody tr th {\n",
       "        vertical-align: top;\n",
       "    }\n",
       "</style>\n",
       "<table border=\"1\" class=\"dataframe\">\n",
       "  <thead>\n",
       "    <tr style=\"text-align: right;\">\n",
       "      <th></th>\n",
       "      <th>ticker</th>\n",
       "      <th>name</th>\n",
       "      <th>clean_name</th>\n",
       "    </tr>\n",
       "  </thead>\n",
       "  <tbody>\n",
       "    <tr>\n",
       "      <th>0</th>\n",
       "      <td>MMM</td>\n",
       "      <td>3m company</td>\n",
       "      <td>3m</td>\n",
       "    </tr>\n",
       "    <tr>\n",
       "      <th>1</th>\n",
       "      <td>ABT</td>\n",
       "      <td>abbott laboratories</td>\n",
       "      <td>abbott laboratories</td>\n",
       "    </tr>\n",
       "    <tr>\n",
       "      <th>2</th>\n",
       "      <td>ABBV</td>\n",
       "      <td>abbvie inc.</td>\n",
       "      <td>abbvie</td>\n",
       "    </tr>\n",
       "    <tr>\n",
       "      <th>3</th>\n",
       "      <td>ACN</td>\n",
       "      <td>accenture plc</td>\n",
       "      <td>accenture</td>\n",
       "    </tr>\n",
       "    <tr>\n",
       "      <th>4</th>\n",
       "      <td>ATVI</td>\n",
       "      <td>activision blizzard</td>\n",
       "      <td>activision blizzard</td>\n",
       "    </tr>\n",
       "  </tbody>\n",
       "</table>\n",
       "</div>"
      ],
      "text/plain": [
       "  ticker                 name           clean_name\n",
       "0    MMM           3m company                   3m\n",
       "1    ABT  abbott laboratories  abbott laboratories\n",
       "2   ABBV          abbvie inc.               abbvie\n",
       "3    ACN        accenture plc            accenture\n",
       "4   ATVI  activision blizzard  activision blizzard"
      ]
     },
     "execution_count": 611,
     "metadata": {},
     "output_type": "execute_result"
    }
   ],
   "source": [
    "sp500_names['clean_name'] = clean_names\n",
    "sp500_names.head()"
   ]
  },
  {
   "cell_type": "markdown",
   "metadata": {},
   "source": [
    "### Keyword Approach"
   ]
  },
  {
   "cell_type": "code",
   "execution_count": 612,
   "metadata": {
    "collapsed": true
   },
   "outputs": [],
   "source": [
    "# removing stop words\n",
    "from nltk.corpus import stopwords\n",
    "import string\n",
    "\n",
    "def remove_punctuation(s):\n",
    "    s = ''.join([i for i in s if i not in frozenset(string.punctuation)])\n",
    "    return s\n",
    "\n",
    "\n",
    "def to_words(review_text):\n",
    "    # 2. Remove non-letters        \n",
    "    #letters_only = re.sub(\"[^a-zA-Z]\", \" \", review_text) \n",
    "    letters_only = remove_punctuation(review_text)\n",
    "    # 3. Convert to lower case, split into individual words\n",
    "    words = letters_only.lower().split()                             \n",
    "    #\n",
    "    # 4. In Python, searching a set is much faster than searching\n",
    "    #   a list, so convert the stop words to a set\n",
    "    stops = set(stopwords.words(\"english\"))\n",
    "    # \n",
    "    # 5. Remove stop words\n",
    "    meaningful_words = [w for w in words if not w in stops]   \n",
    "    \n",
    "    letters = list(string.ascii_lowercase)\n",
    "    words_without_letters = [w for w in meaningful_words if not w in letters]   \n",
    "    #\n",
    "    # 6. Join the words back into one string separated by space, \n",
    "    # and return the result.\n",
    "    \n",
    "    \n",
    "    return( \" \".join( words_without_letters )) \n",
    "\n",
    "# remove verbs\n",
    "# stemming (without stemming the nouns)"
   ]
  },
  {
   "cell_type": "code",
   "execution_count": 613,
   "metadata": {},
   "outputs": [
    {
     "data": {
      "text/plain": [
       "'would like get last years data apples lab'"
      ]
     },
     "execution_count": 613,
     "metadata": {},
     "output_type": "execute_result"
    }
   ],
   "source": [
    "to_words(\"I would like to get last year's data on Apples lab\")"
   ]
  },
  {
   "cell_type": "code",
   "execution_count": 618,
   "metadata": {
    "collapsed": true
   },
   "outputs": [],
   "source": [
    "from fuzzywuzzy import fuzz as fw\n",
    "import re\n",
    "\n",
    "a = 0.6\n",
    "# getting the Name\n",
    "# ticker matching too\n",
    "\n",
    "def name_finder(text):\n",
    "    \"\"\"\n",
    "    Inputs: string sentence with removed stopwords\n",
    "    \n",
    "    Returns: company ticker\n",
    "    \n",
    "    Selects ticker that has max average match of all words in the input with the\n",
    "    company names and company tickers. If there is a perfect match return the ticker\n",
    "    directly and stop.\n",
    "    \"\"\"\n",
    "    words = text.split(' ')\n",
    "    max_scores = []\n",
    "    tickers = []\n",
    "    max_scores2 = []\n",
    "    for w in words:\n",
    "        scores = 0\n",
    "        ticker = ''\n",
    "        for i, row in sp500_names.iterrows():\n",
    "            #nms = row['clean_name'].split(' ')\n",
    "            nms = re.findall(r\"[\\w']+\", row['clean_name'])\n",
    "            fuzzs = []\n",
    "            try:\n",
    "                for nm in nms:\n",
    "                    fuzz = fw.ratio(nm, w)\n",
    "                    #if fuzz == 100:\n",
    "                        #print(nm, w)\n",
    "                    #    return row['ticker']\n",
    "                    fuzzs.append(fuzz)\n",
    "                if scores <= max(fuzzs):\n",
    "                    scores = max(fuzzs)\n",
    "                    ticker = row['ticker']\n",
    "            except:\n",
    "                continue\n",
    "        max_scores.append(scores)\n",
    "        tickers.append(ticker)\n",
    "    for tk in tickers:\n",
    "        scores2 = 0\n",
    "        for w in words:\n",
    "            fuzz2 = fw.ratio(tk.lower(), w)\n",
    "            if fuzz2 == 100:\n",
    "                #print(tk, w)\n",
    "                return tk\n",
    "            if scores2 <= fuzz2:\n",
    "                scores2 = fuzz2\n",
    "        max_scores2.append(scores2)\n",
    "    avg_score = a*np.array(max_scores) + (1.0-a)*np.array(max_scores2)\n",
    "    df = pd.DataFrame()\n",
    "    df['ticker'] = tickers\n",
    "    df['name_score'] = max_scores\n",
    "    df['ticker_score'] = max_scores2\n",
    "    df['avg_score'] = avg_score\n",
    "    #print(df.sort_values('avg_score', ascending=False))\n",
    "    return tickers[np.argmax(avg_score)]"
   ]
  },
  {
   "cell_type": "code",
   "execution_count": 619,
   "metadata": {},
   "outputs": [
    {
     "data": {
      "text/plain": [
       "u'AAPL'"
      ]
     },
     "execution_count": 619,
     "metadata": {},
     "output_type": "execute_result"
    }
   ],
   "source": [
    "name_finder(to_words(\"Stock prices for apple and microsoft\"))"
   ]
  },
  {
   "cell_type": "code",
   "execution_count": 620,
   "metadata": {},
   "outputs": [
    {
     "data": {
      "text/html": [
       "<div>\n",
       "<style>\n",
       "    .dataframe thead tr:only-child th {\n",
       "        text-align: right;\n",
       "    }\n",
       "\n",
       "    .dataframe thead th {\n",
       "        text-align: left;\n",
       "    }\n",
       "\n",
       "    .dataframe tbody tr th {\n",
       "        vertical-align: top;\n",
       "    }\n",
       "</style>\n",
       "<table border=\"1\" class=\"dataframe\">\n",
       "  <thead>\n",
       "    <tr style=\"text-align: right;\">\n",
       "      <th></th>\n",
       "      <th>ticker</th>\n",
       "      <th>name</th>\n",
       "      <th>clean_name</th>\n",
       "    </tr>\n",
       "  </thead>\n",
       "  <tbody>\n",
       "    <tr>\n",
       "      <th>315</th>\n",
       "      <td>MSFT</td>\n",
       "      <td>microsoft corp.</td>\n",
       "      <td>microsoft</td>\n",
       "    </tr>\n",
       "  </tbody>\n",
       "</table>\n",
       "</div>"
      ],
      "text/plain": [
       "    ticker             name clean_name\n",
       "315   MSFT  microsoft corp.  microsoft"
      ]
     },
     "execution_count": 620,
     "metadata": {},
     "output_type": "execute_result"
    }
   ],
   "source": [
    "sp500_names[sp500_names['ticker'] == 'MSFT']"
   ]
  },
  {
   "cell_type": "markdown",
   "metadata": {},
   "source": [
    "### Testing"
   ]
  },
  {
   "cell_type": "code",
   "execution_count": 621,
   "metadata": {
    "collapsed": true
   },
   "outputs": [],
   "source": [
    "test_data = pd.read_csv('test_names.csv')"
   ]
  },
  {
   "cell_type": "code",
   "execution_count": 622,
   "metadata": {},
   "outputs": [
    {
     "data": {
      "text/html": [
       "<div>\n",
       "<style>\n",
       "    .dataframe thead tr:only-child th {\n",
       "        text-align: right;\n",
       "    }\n",
       "\n",
       "    .dataframe thead th {\n",
       "        text-align: left;\n",
       "    }\n",
       "\n",
       "    .dataframe tbody tr th {\n",
       "        vertical-align: top;\n",
       "    }\n",
       "</style>\n",
       "<table border=\"1\" class=\"dataframe\">\n",
       "  <thead>\n",
       "    <tr style=\"text-align: right;\">\n",
       "      <th></th>\n",
       "      <th>Training set</th>\n",
       "      <th>Unnamed: 1</th>\n",
       "      <th>Unnamed: 2</th>\n",
       "      <th>Unnamed: 3</th>\n",
       "      <th>Unnamed: 4</th>\n",
       "      <th>Unnamed: 5</th>\n",
       "      <th>Unnamed: 6</th>\n",
       "      <th>Unnamed: 7</th>\n",
       "    </tr>\n",
       "  </thead>\n",
       "  <tbody>\n",
       "    <tr>\n",
       "      <th>0</th>\n",
       "      <td>NaN</td>\n",
       "      <td>NaN</td>\n",
       "      <td>NaN</td>\n",
       "      <td>for time: https://nlp.stanford.edu/projects/ti...</td>\n",
       "      <td>NaN</td>\n",
       "      <td>NaN</td>\n",
       "      <td>NaN</td>\n",
       "      <td>NaN</td>\n",
       "    </tr>\n",
       "    <tr>\n",
       "      <th>1</th>\n",
       "      <td>NaN</td>\n",
       "      <td>NaN</td>\n",
       "      <td>NaN</td>\n",
       "      <td>NaN</td>\n",
       "      <td>NaN</td>\n",
       "      <td>NaN</td>\n",
       "      <td>NaN</td>\n",
       "      <td>NaN</td>\n",
       "    </tr>\n",
       "    <tr>\n",
       "      <th>2</th>\n",
       "      <td>NaN</td>\n",
       "      <td>NaN</td>\n",
       "      <td>IGNORE</td>\n",
       "      <td>IGNORE</td>\n",
       "      <td>IGNORE</td>\n",
       "      <td>NaN</td>\n",
       "      <td>NaN</td>\n",
       "      <td>NaN</td>\n",
       "    </tr>\n",
       "    <tr>\n",
       "      <th>3</th>\n",
       "      <td>Question</td>\n",
       "      <td>NaN</td>\n",
       "      <td>Time (relational to today)</td>\n",
       "      <td>Range</td>\n",
       "      <td>Metric</td>\n",
       "      <td>Name</td>\n",
       "      <td>NaN</td>\n",
       "      <td>NaN</td>\n",
       "    </tr>\n",
       "    <tr>\n",
       "      <th>4</th>\n",
       "      <td>Can you give me Apples stock for yesterday</td>\n",
       "      <td>NaN</td>\n",
       "      <td>t-1</td>\n",
       "      <td>1</td>\n",
       "      <td>price</td>\n",
       "      <td>AAPL</td>\n",
       "      <td>NaN</td>\n",
       "      <td>NaN</td>\n",
       "    </tr>\n",
       "  </tbody>\n",
       "</table>\n",
       "</div>"
      ],
      "text/plain": [
       "                                 Training set  Unnamed: 1  \\\n",
       "0                                         NaN         NaN   \n",
       "1                                         NaN         NaN   \n",
       "2                                         NaN         NaN   \n",
       "3                                    Question         NaN   \n",
       "4  Can you give me Apples stock for yesterday         NaN   \n",
       "\n",
       "                   Unnamed: 2  \\\n",
       "0                         NaN   \n",
       "1                         NaN   \n",
       "2                      IGNORE   \n",
       "3  Time (relational to today)   \n",
       "4                         t-1   \n",
       "\n",
       "                                          Unnamed: 3 Unnamed: 4 Unnamed: 5  \\\n",
       "0  for time: https://nlp.stanford.edu/projects/ti...        NaN        NaN   \n",
       "1                                                NaN        NaN        NaN   \n",
       "2                                             IGNORE     IGNORE        NaN   \n",
       "3                                              Range     Metric       Name   \n",
       "4                                                  1      price       AAPL   \n",
       "\n",
       "  Unnamed: 6 Unnamed: 7  \n",
       "0        NaN        NaN  \n",
       "1        NaN        NaN  \n",
       "2        NaN        NaN  \n",
       "3        NaN        NaN  \n",
       "4        NaN        NaN  "
      ]
     },
     "execution_count": 622,
     "metadata": {},
     "output_type": "execute_result"
    }
   ],
   "source": [
    "test_data.head()"
   ]
  },
  {
   "cell_type": "code",
   "execution_count": 623,
   "metadata": {
    "collapsed": true
   },
   "outputs": [],
   "source": [
    "test_data = test_data.loc[4:]"
   ]
  },
  {
   "cell_type": "code",
   "execution_count": 624,
   "metadata": {
    "collapsed": true
   },
   "outputs": [],
   "source": [
    "data_test = pd.DataFrame()\n",
    "data_test['question'] = test_data['Training set']\n",
    "data_test['name'] = test_data.iloc[:,5]"
   ]
  },
  {
   "cell_type": "code",
   "execution_count": 625,
   "metadata": {},
   "outputs": [
    {
     "data": {
      "text/html": [
       "<div>\n",
       "<style>\n",
       "    .dataframe thead tr:only-child th {\n",
       "        text-align: right;\n",
       "    }\n",
       "\n",
       "    .dataframe thead th {\n",
       "        text-align: left;\n",
       "    }\n",
       "\n",
       "    .dataframe tbody tr th {\n",
       "        vertical-align: top;\n",
       "    }\n",
       "</style>\n",
       "<table border=\"1\" class=\"dataframe\">\n",
       "  <thead>\n",
       "    <tr style=\"text-align: right;\">\n",
       "      <th></th>\n",
       "      <th>question</th>\n",
       "      <th>name</th>\n",
       "    </tr>\n",
       "  </thead>\n",
       "  <tbody>\n",
       "    <tr>\n",
       "      <th>4</th>\n",
       "      <td>Can you give me Apples stock for yesterday</td>\n",
       "      <td>AAPL</td>\n",
       "    </tr>\n",
       "    <tr>\n",
       "      <th>5</th>\n",
       "      <td>How did Google do last year?</td>\n",
       "      <td>GOOGL</td>\n",
       "    </tr>\n",
       "    <tr>\n",
       "      <th>6</th>\n",
       "      <td>How well did Accenture stock do last month?</td>\n",
       "      <td>ACN</td>\n",
       "    </tr>\n",
       "    <tr>\n",
       "      <th>7</th>\n",
       "      <td>What was BlackRock's price yesterday</td>\n",
       "      <td>BLK</td>\n",
       "    </tr>\n",
       "    <tr>\n",
       "      <th>8</th>\n",
       "      <td>Give me Boeing's price yesterday</td>\n",
       "      <td>BA</td>\n",
       "    </tr>\n",
       "  </tbody>\n",
       "</table>\n",
       "</div>"
      ],
      "text/plain": [
       "                                      question   name\n",
       "4   Can you give me Apples stock for yesterday   AAPL\n",
       "5                 How did Google do last year?  GOOGL\n",
       "6  How well did Accenture stock do last month?    ACN\n",
       "7         What was BlackRock's price yesterday    BLK\n",
       "8             Give me Boeing's price yesterday     BA"
      ]
     },
     "execution_count": 625,
     "metadata": {},
     "output_type": "execute_result"
    }
   ],
   "source": [
    "data_test.head()"
   ]
  },
  {
   "cell_type": "code",
   "execution_count": 626,
   "metadata": {},
   "outputs": [],
   "source": [
    "# accuracy of keyword matching\n",
    "data_test['clean_question'] = data_test['question'].apply(to_words)\n",
    "data_test['score'] = data_test['clean_question'].apply(name_finder)"
   ]
  },
  {
   "cell_type": "code",
   "execution_count": 627,
   "metadata": {
    "collapsed": true
   },
   "outputs": [],
   "source": [
    "# include match\n",
    "data_test['acc'] = [1 if x[0] == x[1] else 0\n",
    "                    for x in zip(data_test['name'], data_test['score'])]"
   ]
  },
  {
   "cell_type": "code",
   "execution_count": 628,
   "metadata": {},
   "outputs": [
    {
     "data": {
      "text/html": [
       "<div>\n",
       "<style>\n",
       "    .dataframe thead tr:only-child th {\n",
       "        text-align: right;\n",
       "    }\n",
       "\n",
       "    .dataframe thead th {\n",
       "        text-align: left;\n",
       "    }\n",
       "\n",
       "    .dataframe tbody tr th {\n",
       "        vertical-align: top;\n",
       "    }\n",
       "</style>\n",
       "<table border=\"1\" class=\"dataframe\">\n",
       "  <thead>\n",
       "    <tr style=\"text-align: right;\">\n",
       "      <th></th>\n",
       "      <th>question</th>\n",
       "      <th>name</th>\n",
       "      <th>clean_question</th>\n",
       "      <th>score</th>\n",
       "      <th>acc</th>\n",
       "    </tr>\n",
       "  </thead>\n",
       "  <tbody>\n",
       "    <tr>\n",
       "      <th>4</th>\n",
       "      <td>Can you give me Apples stock for yesterday</td>\n",
       "      <td>AAPL</td>\n",
       "      <td>give apples stock yesterday</td>\n",
       "      <td>AAPL</td>\n",
       "      <td>1</td>\n",
       "    </tr>\n",
       "    <tr>\n",
       "      <th>5</th>\n",
       "      <td>How did Google do last year?</td>\n",
       "      <td>GOOGL</td>\n",
       "      <td>google last year</td>\n",
       "      <td>GT</td>\n",
       "      <td>0</td>\n",
       "    </tr>\n",
       "    <tr>\n",
       "      <th>6</th>\n",
       "      <td>How well did Accenture stock do last month?</td>\n",
       "      <td>ACN</td>\n",
       "      <td>well accenture stock last month</td>\n",
       "      <td>ACN</td>\n",
       "      <td>1</td>\n",
       "    </tr>\n",
       "    <tr>\n",
       "      <th>7</th>\n",
       "      <td>What was BlackRock's price yesterday</td>\n",
       "      <td>BLK</td>\n",
       "      <td>blackrocks price yesterday</td>\n",
       "      <td>BLK</td>\n",
       "      <td>1</td>\n",
       "    </tr>\n",
       "    <tr>\n",
       "      <th>8</th>\n",
       "      <td>Give me Boeing's price yesterday</td>\n",
       "      <td>BA</td>\n",
       "      <td>give boeings price yesterday</td>\n",
       "      <td>BA</td>\n",
       "      <td>1</td>\n",
       "    </tr>\n",
       "  </tbody>\n",
       "</table>\n",
       "</div>"
      ],
      "text/plain": [
       "                                      question   name  \\\n",
       "4   Can you give me Apples stock for yesterday   AAPL   \n",
       "5                 How did Google do last year?  GOOGL   \n",
       "6  How well did Accenture stock do last month?    ACN   \n",
       "7         What was BlackRock's price yesterday    BLK   \n",
       "8             Give me Boeing's price yesterday     BA   \n",
       "\n",
       "                    clean_question score  acc  \n",
       "4      give apples stock yesterday  AAPL    1  \n",
       "5                 google last year    GT    0  \n",
       "6  well accenture stock last month   ACN    1  \n",
       "7       blackrocks price yesterday   BLK    1  \n",
       "8     give boeings price yesterday    BA    1  "
      ]
     },
     "execution_count": 628,
     "metadata": {},
     "output_type": "execute_result"
    }
   ],
   "source": [
    "data_test.head()"
   ]
  },
  {
   "cell_type": "code",
   "execution_count": 629,
   "metadata": {},
   "outputs": [
    {
     "name": "stdout",
     "output_type": "stream",
     "text": [
      "('accuracy: ', 0.796875)\n"
     ]
    }
   ],
   "source": [
    "# accuracy\n",
    "print('accuracy: ', np.sum(data_test['acc'])/float(data_test.shape[0]))"
   ]
  },
  {
   "cell_type": "code",
   "execution_count": 630,
   "metadata": {},
   "outputs": [
    {
     "data": {
      "text/plain": [
       "MMM      2\n",
       "AMZN     2\n",
       "GE       2\n",
       "GOOG     2\n",
       "GOOGL    1\n",
       "AT&T     1\n",
       "ATT      1\n",
       "EBAY     1\n",
       "MSFT     1\n",
       "Name: name, dtype: int64"
      ]
     },
     "execution_count": 630,
     "metadata": {},
     "output_type": "execute_result"
    }
   ],
   "source": [
    "data_test[data_test['acc'] == 0]['name'].value_counts()"
   ]
  },
  {
   "cell_type": "code",
   "execution_count": 592,
   "metadata": {},
   "outputs": [
    {
     "data": {
      "text/html": [
       "<div>\n",
       "<style>\n",
       "    .dataframe thead tr:only-child th {\n",
       "        text-align: right;\n",
       "    }\n",
       "\n",
       "    .dataframe thead th {\n",
       "        text-align: left;\n",
       "    }\n",
       "\n",
       "    .dataframe tbody tr th {\n",
       "        vertical-align: top;\n",
       "    }\n",
       "</style>\n",
       "<table border=\"1\" class=\"dataframe\">\n",
       "  <thead>\n",
       "    <tr style=\"text-align: right;\">\n",
       "      <th></th>\n",
       "      <th>question</th>\n",
       "      <th>name</th>\n",
       "      <th>clean_question</th>\n",
       "      <th>score</th>\n",
       "      <th>acc</th>\n",
       "    </tr>\n",
       "  </thead>\n",
       "  <tbody>\n",
       "    <tr>\n",
       "      <th>5</th>\n",
       "      <td>How did Google do last year?</td>\n",
       "      <td>GOOGL</td>\n",
       "      <td>google last year</td>\n",
       "      <td>GT</td>\n",
       "      <td>0</td>\n",
       "    </tr>\n",
       "    <tr>\n",
       "      <th>20</th>\n",
       "      <td>What was Ebay's px yesterday</td>\n",
       "      <td>EBAY</td>\n",
       "      <td>ebays px yesterday</td>\n",
       "      <td>PX</td>\n",
       "      <td>0</td>\n",
       "    </tr>\n",
       "    <tr>\n",
       "      <th>28</th>\n",
       "      <td>Get GE's price 52w ago</td>\n",
       "      <td>GE</td>\n",
       "      <td>get ges price 52w ago</td>\n",
       "      <td>WFC</td>\n",
       "      <td>0</td>\n",
       "    </tr>\n",
       "    <tr>\n",
       "      <th>36</th>\n",
       "      <td>Give me Alphabet Inc. price 3M low</td>\n",
       "      <td>GOOG</td>\n",
       "      <td>give alphabet inc price 3m low</td>\n",
       "      <td>MMM</td>\n",
       "      <td>0</td>\n",
       "    </tr>\n",
       "    <tr>\n",
       "      <th>37</th>\n",
       "      <td>give me the share price of either Google share...</td>\n",
       "      <td>GOOG</td>\n",
       "      <td>give share price either google shares last done</td>\n",
       "      <td>SCHW</td>\n",
       "      <td>0</td>\n",
       "    </tr>\n",
       "    <tr>\n",
       "      <th>38</th>\n",
       "      <td>MMM price seven weeks ago</td>\n",
       "      <td>MMM</td>\n",
       "      <td>mmm price seven weeks ago</td>\n",
       "      <td>MGM</td>\n",
       "      <td>0</td>\n",
       "    </tr>\n",
       "    <tr>\n",
       "      <th>41</th>\n",
       "      <td>Tell me MMM price</td>\n",
       "      <td>MMM</td>\n",
       "      <td>tell mmm price</td>\n",
       "      <td>MGM</td>\n",
       "      <td>0</td>\n",
       "    </tr>\n",
       "    <tr>\n",
       "      <th>43</th>\n",
       "      <td>Request for AT&amp;T price</td>\n",
       "      <td>ATT</td>\n",
       "      <td>request att price</td>\n",
       "      <td>T</td>\n",
       "      <td>0</td>\n",
       "    </tr>\n",
       "    <tr>\n",
       "      <th>46</th>\n",
       "      <td>Gather for me GE's price</td>\n",
       "      <td>GE</td>\n",
       "      <td>gather ges price</td>\n",
       "      <td>IT</td>\n",
       "      <td>0</td>\n",
       "    </tr>\n",
       "    <tr>\n",
       "      <th>47</th>\n",
       "      <td>Source for me AT&amp;T's price</td>\n",
       "      <td>AT&amp;T</td>\n",
       "      <td>source atts price</td>\n",
       "      <td>T</td>\n",
       "      <td>0</td>\n",
       "    </tr>\n",
       "    <tr>\n",
       "      <th>51</th>\n",
       "      <td>What is AMZN price?</td>\n",
       "      <td>AMZN</td>\n",
       "      <td>amzn price</td>\n",
       "      <td>AMGN</td>\n",
       "      <td>0</td>\n",
       "    </tr>\n",
       "    <tr>\n",
       "      <th>52</th>\n",
       "      <td>What is amzn price?</td>\n",
       "      <td>AMZN</td>\n",
       "      <td>amzn price</td>\n",
       "      <td>AMGN</td>\n",
       "      <td>0</td>\n",
       "    </tr>\n",
       "    <tr>\n",
       "      <th>57</th>\n",
       "      <td>What is msft price?</td>\n",
       "      <td>MSFT</td>\n",
       "      <td>msft price</td>\n",
       "      <td>MTB</td>\n",
       "      <td>0</td>\n",
       "    </tr>\n",
       "  </tbody>\n",
       "</table>\n",
       "</div>"
      ],
      "text/plain": [
       "                                             question   name  \\\n",
       "5                        How did Google do last year?  GOOGL   \n",
       "20                       What was Ebay's px yesterday   EBAY   \n",
       "28                             Get GE's price 52w ago     GE   \n",
       "36                 Give me Alphabet Inc. price 3M low   GOOG   \n",
       "37  give me the share price of either Google share...   GOOG   \n",
       "38                          MMM price seven weeks ago    MMM   \n",
       "41                                  Tell me MMM price    MMM   \n",
       "43                             Request for AT&T price    ATT   \n",
       "46                           Gather for me GE's price     GE   \n",
       "47                         Source for me AT&T's price   AT&T   \n",
       "51                                What is AMZN price?   AMZN   \n",
       "52                                What is amzn price?   AMZN   \n",
       "57                                What is msft price?   MSFT   \n",
       "\n",
       "                                     clean_question score  acc  \n",
       "5                                  google last year    GT    0  \n",
       "20                               ebays px yesterday    PX    0  \n",
       "28                            get ges price 52w ago   WFC    0  \n",
       "36                   give alphabet inc price 3m low   MMM    0  \n",
       "37  give share price either google shares last done  SCHW    0  \n",
       "38                        mmm price seven weeks ago   MGM    0  \n",
       "41                                   tell mmm price   MGM    0  \n",
       "43                                request att price     T    0  \n",
       "46                                 gather ges price    IT    0  \n",
       "47                                source atts price     T    0  \n",
       "51                                       amzn price  AMGN    0  \n",
       "52                                       amzn price  AMGN    0  \n",
       "57                                       msft price   MTB    0  "
      ]
     },
     "execution_count": 592,
     "metadata": {},
     "output_type": "execute_result"
    }
   ],
   "source": [
    "data_test[data_test['acc'] == 0]"
   ]
  },
  {
   "cell_type": "code",
   "execution_count": null,
   "metadata": {
    "collapsed": true
   },
   "outputs": [],
   "source": []
  }
 ],
 "metadata": {
  "kernelspec": {
   "display_name": "Python [default]",
   "language": "python",
   "name": "python2"
  },
  "language_info": {
   "codemirror_mode": {
    "name": "ipython",
    "version": 2
   },
   "file_extension": ".py",
   "mimetype": "text/x-python",
   "name": "python",
   "nbconvert_exporter": "python",
   "pygments_lexer": "ipython2",
   "version": "2.7.8"
  }
 },
 "nbformat": 4,
 "nbformat_minor": 2
}

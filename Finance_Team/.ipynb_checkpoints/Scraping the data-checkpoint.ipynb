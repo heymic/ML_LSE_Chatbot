{
 "cells": [
  {
   "cell_type": "markdown",
   "metadata": {},
   "source": [
    "# Webscraper"
   ]
  },
  {
   "cell_type": "code",
   "execution_count": 1,
   "metadata": {
    "collapsed": true
   },
   "outputs": [],
   "source": [
    "import pandas as pd\n",
    "from bs4 import BeautifulSoup\n",
    "import urllib3 as url\n",
    "import certifi as cert"
   ]
  },
  {
   "cell_type": "code",
   "execution_count": 27,
   "metadata": {
    "collapsed": false
   },
   "outputs": [],
   "source": [
    "def get_current_stock_price(name):\n",
    "    http = url.PoolManager(cert_reqs='CERT_REQUIRED', ca_certs=cert.where())\n",
    "    html_doc = http.request('GET', 'https://finance.yahoo.com/quote/' + name + '?p=' + name)\n",
    "    soup = BeautifulSoup(html_doc.data, 'html.parser')\n",
    "    dayprice = soup.find(\"span\", class_=\"Trsdu(0.3s) Fw(b) Fz(36px) Mb(-4px) D(ib)\").get_text()\n",
    "    prevclose = soup.find(\"td\", class_=\"Ta(end) Fw(b) Lh(14px)\").get_text()\n",
    "    return 'dayprice', dayprice,  ' prevclose' , prevclose"
   ]
  },
  {
   "cell_type": "code",
   "execution_count": 28,
   "metadata": {
    "collapsed": false
   },
   "outputs": [
    {
     "data": {
      "text/plain": [
       "('dayprice', '166.97', ' prevclose', '167.96')"
      ]
     },
     "execution_count": 28,
     "metadata": {},
     "output_type": "execute_result"
    }
   ],
   "source": [
    "get_stock_price('AAPL')"
   ]
  },
  {
   "cell_type": "code",
   "execution_count": null,
   "metadata": {
    "collapsed": true
   },
   "outputs": [],
   "source": []
  }
 ],
 "metadata": {
  "kernelspec": {
   "display_name": "Python 3",
   "language": "python",
   "name": "python3"
  },
  "language_info": {
   "codemirror_mode": {
    "name": "ipython",
    "version": 3
   },
   "file_extension": ".py",
   "mimetype": "text/x-python",
   "name": "python",
   "nbconvert_exporter": "python",
   "pygments_lexer": "ipython3",
   "version": "3.6.0"
  }
 },
 "nbformat": 4,
 "nbformat_minor": 2
}
